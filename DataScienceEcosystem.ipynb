{
 "cells": [
  {
   "cell_type": "markdown",
   "id": "5e4dd169-e265-446a-a4eb-e015b999c0f2",
   "metadata": {},
   "source": [
    "<center>\n",
    "    <img src=\"https://cf-courses-data.s3.us.cloud-object-storage.appdomain.cloud/IBMDeveloperSkillsNetwork-DS0105EN-SkillsNetwork/labs/Module2/images/SN_web_lightmode.png\" width=\"300\" alt=\"cognitiveclass.ai logo\">\n",
    "</center>\n"
   ]
  },
  {
   "cell_type": "markdown",
   "id": "d777ab6d-b124-4697-9b05-d53e1bf815c4",
   "metadata": {},
   "source": [
    "#### Add your code below following the instructions given in the course\n"
   ]
  },
  {
   "cell_type": "markdown",
   "id": "7c40136c-1d1f-4ee3-8798-19bb142fa690",
   "metadata": {},
   "source": [
    "# Data Science Tools and Ecosystem\n"
   ]
  },
  {
   "cell_type": "markdown",
   "id": "f39b87aa-615d-498d-998c-fdf3e2a2518b",
   "metadata": {},
   "source": [
    "In this notebook, Data Science Tools and Ecosystem are summarized."
   ]
  },
  {
   "cell_type": "markdown",
   "id": "27722f01-3746-4708-bfe0-1974b7c84d2b",
   "metadata": {},
   "source": [
    "### Objectives:\n",
    "- Support many languages\n",
    "- Browser based applicant allow to create and share documents\n",
    "- Record Data Science Experiments"
   ]
  },
  {
   "cell_type": "markdown",
   "id": "bb433e3a-f629-43e2-a2ac-b359417bcacd",
   "metadata": {},
   "source": [
    "Some of the popular languages that Data Scientists use are:\n",
    "\n",
    "1. Python\n",
    "2. R\n",
    "3. Scala\n",
    "4. Julia"
   ]
  },
  {
   "cell_type": "markdown",
   "id": "68a46468-06a2-4fc9-819b-105859727b60",
   "metadata": {},
   "source": [
    "Some of the commonly used libraries used by Data Scientists include:\n",
    "\n",
    "* Pandas\n",
    "* NumPy\n",
    "* Matplotlib"
   ]
  },
  {
   "cell_type": "markdown",
   "id": "b8e7c5e1-6859-46d8-a982-91d76746ecd0",
   "metadata": {},
   "source": [
    "## Data Science Tools\n",
    "\n",
    "| Data Science Tools |\n",
    " --------------------\n",
    " | RStudio |\n",
    " | Apache Hadoop |\n",
    " | TensorFlow |"
   ]
  },
  {
   "cell_type": "markdown",
   "id": "a48acd0f-50b6-4bbc-9e16-20c0de901ebb",
   "metadata": {},
   "source": [
    "### Below are a few examples of evaluating arithmetic expressions in Python\n",
    "\n",
    "- This sign is to add Numbers (+)\n",
    "- This sign is to subtract Numbers (-)\n",
    "- This sign is to multiply Numbers (*)\n",
    "- This sign is to divide Numbers (/)"
   ]
  },
  {
   "cell_type": "code",
   "execution_count": 1,
   "id": "4c96da5f-c6cb-4acd-9ad0-ececfae29214",
   "metadata": {},
   "outputs": [
    {
     "name": "stdout",
     "output_type": "stream",
     "text": [
      "17\n"
     ]
    }
   ],
   "source": [
    "# This a simple arithmetic expression to mutiply then add integers\n",
    "\n",
    "print ((3*4)+5)"
   ]
  },
  {
   "cell_type": "code",
   "execution_count": 2,
   "id": "58441333-93d2-432b-b44b-f6aa9f094748",
   "metadata": {},
   "outputs": [
    {
     "name": "stdout",
     "output_type": "stream",
     "text": [
      "Time in hours is  3.3333333333333335\n"
     ]
    }
   ],
   "source": [
    "minutes = 200\n",
    "hour = 60\n",
    "print ('Time in hours is ', (minutes/hour))"
   ]
  },
  {
   "cell_type": "markdown",
   "id": "81033889-dccb-4e9e-beb3-660f8d43a683",
   "metadata": {},
   "source": [
    "## Author \n",
    "\n",
    "Youssef Mohamed "
   ]
  },
  {
   "cell_type": "code",
   "execution_count": null,
   "id": "cf355259-0e8e-4a57-9022-196355388085",
   "metadata": {},
   "outputs": [],
   "source": []
  }
 ],
 "metadata": {
  "kernelspec": {
   "display_name": "Python 3 (ipykernel)",
   "language": "python",
   "name": "python3"
  },
  "language_info": {
   "codemirror_mode": {
    "name": "ipython",
    "version": 3
   },
   "file_extension": ".py",
   "mimetype": "text/x-python",
   "name": "python",
   "nbconvert_exporter": "python",
   "pygments_lexer": "ipython3",
   "version": "3.9.13"
  }
 },
 "nbformat": 4,
 "nbformat_minor": 5
}
